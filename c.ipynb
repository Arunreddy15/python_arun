{
 "cells": [
  {
   "cell_type": "code",
   "execution_count": null,
   "metadata": {},
   "outputs": [],
   "source": [
    "#Fibonacci\n",
    "#include_stdio();\n",
    "void main();\n",
    "{\n",
    "    int n,a=0,b=1,c;\n",
    "    print(\"number of limit:\");\n",
    "    scanf(\"%d\",&n);\n",
    "    for(i=0;i<=n;i++)\n",
    "    {\n",
    "        print(\"%d\\n\",a);\n",
    "        c=a+b;\n",
    "        a=b;\n",
    "        b=c;\n",
    "    }\n",
    "getch();    \n",
    "}"
   ]
  },
  {
   "cell_type": "code",
   "execution_count": null,
   "metadata": {},
   "outputs": [],
   "source": [
    "#Angstrom\n",
    "void main();\n",
    "{\n",
    "    int n,sum=0,c,temp;\n",
    "    print(\"enter n value\");\n",
    "    scanf(\"%d\",&n);\n",
    "    temp=n;\n",
    "    while(n>0)\n",
    "    {\n",
    "        r=n%10;\n",
    "        c=r*r*r;\n",
    "        sum=sum+c;\n",
    "        n=n/10;  \n",
    "    }\n",
    "    n=temp;\n",
    "    if(n==sum)\n",
    "    {\n",
    "        print(\"n is ang number\")\n",
    "    }\n",
    "    else:\n",
    "    {\n",
    "        print(\"not a ang number\")\n",
    "    }\n",
    "getch();    \n",
    "}\n"
   ]
  },
  {
   "cell_type": "code",
   "execution_count": null,
   "metadata": {},
   "outputs": [],
   "source": [
    "#Palindrome number\n",
    "#include_stdio();\n",
    "void main();\n",
    "{\n",
    "    int n,sum=0,temp;\n",
    "    print(\"enter n value\");\n",
    "    scanf(\"%d\",&n);\n",
    "    temp=n;\n",
    "    while(n>0)\n",
    "    {\n",
    "        r=n%10;\n",
    "        sum=sum*10+r;\n",
    "        n=n/10;  \n",
    "    }\n",
    "    n=temp;\n",
    "    if(n==sum)\n",
    "    {\n",
    "        print(\"n is palindome number\")\n",
    "    }\n",
    "    else:\n",
    "    {\n",
    "        print(\"not a palindrome number\")\n",
    "    }\n",
    "getch();    \n",
    "}"
   ]
  }
 ],
 "metadata": {
  "kernelspec": {
   "display_name": "Python 3",
   "language": "python",
   "name": "python3"
  },
  "language_info": {
   "codemirror_mode": {
    "name": "ipython",
    "version": 3
   },
   "file_extension": ".py",
   "mimetype": "text/x-python",
   "name": "python",
   "nbconvert_exporter": "python",
   "pygments_lexer": "ipython3",
   "version": "3.7.4"
  }
 },
 "nbformat": 4,
 "nbformat_minor": 2
}
